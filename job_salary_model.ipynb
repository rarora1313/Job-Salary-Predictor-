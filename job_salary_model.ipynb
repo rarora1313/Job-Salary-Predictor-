{
 "cells": [
  {
   "cell_type": "markdown",
   "id": "f911f3eb",
   "metadata": {},
   "source": [
    "# 💼 Job Salary Predictor\n",
    "This notebook explores salary prediction using regression."
   ]
  },
  {
   "cell_type": "code",
   "execution_count": null,
   "id": "a5cdd11b",
   "metadata": {},
   "outputs": [],
   "source": [
    "import pandas as pd\n",
    "from sklearn.linear_model import LinearRegression\n",
    "from sklearn.model_selection import train_test_split\n",
    "from sklearn.metrics import mean_absolute_error, r2_score"
   ]
  },
  {
   "cell_type": "code",
   "execution_count": null,
   "id": "b055f71f",
   "metadata": {},
   "outputs": [],
   "source": [
    "# Load dataset\n",
    "df = pd.read_csv('../data/job_salary_dataset.csv')\n",
    "df"
   ]
  },
  {
   "cell_type": "code",
   "execution_count": null,
   "id": "5a220668",
   "metadata": {},
   "outputs": [],
   "source": [
    "# Convert categorical 'Primary Skill' into dummy variables\n",
    "df_encoded = pd.get_dummies(df, columns=['Primary Skill', 'Job Title', 'Location'], drop_first=True)\n",
    "\n",
    "X = df_encoded.drop('Salary (NZD)', axis=1)\n",
    "y = df_encoded['Salary (NZD)']"
   ]
  },
  {
   "cell_type": "code",
   "execution_count": null,
   "id": "6fe1565d",
   "metadata": {},
   "outputs": [],
   "source": [
    "# Train-test split\n",
    "X_train, X_test, y_train, y_test = train_test_split(X, y, test_size=0.2, random_state=42)"
   ]
  },
  {
   "cell_type": "code",
   "execution_count": null,
   "id": "04d7319e",
   "metadata": {},
   "outputs": [],
   "source": [
    "# Train model\n",
    "model = LinearRegression()\n",
    "model.fit(X_train, y_train)"
   ]
  },
  {
   "cell_type": "code",
   "execution_count": null,
   "id": "69bd17f9",
   "metadata": {},
   "outputs": [],
   "source": [
    "# Evaluate\n",
    "predictions = model.predict(X_test)\n",
    "mae = mean_absolute_error(y_test, predictions)\n",
    "r2 = r2_score(y_test, predictions)\n",
    "print(f\"MAE: {mae:.2f}\")\n",
    "print(f\"R² Score: {r2:.2f}\")"
   ]
  }
 ],
 "metadata": {},
 "nbformat": 4,
 "nbformat_minor": 5
}
